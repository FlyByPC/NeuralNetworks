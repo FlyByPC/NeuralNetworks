{
  "nbformat": 4,
  "nbformat_minor": 0,
  "metadata": {
    "colab": {
      "name": "ArtificialNeuralNetwork.ipynb",
      "provenance": [],
      "collapsed_sections": [],
      "authorship_tag": "ABX9TyO/huxBhi6UVkgAZZIRF8OS",
      "include_colab_link": true
    },
    "kernelspec": {
      "name": "python3",
      "display_name": "Python 3"
    },
    "accelerator": "GPU"
  },
  "cells": [
    {
      "cell_type": "markdown",
      "metadata": {
        "id": "view-in-github",
        "colab_type": "text"
      },
      "source": [
        "<a href=\"https://colab.research.google.com/github/niconielsen32/NeuralNetworks/blob/main/ArtificialNeuralNetwork.ipynb\" target=\"_parent\"><img src=\"https://colab.research.google.com/assets/colab-badge.svg\" alt=\"Open In Colab\"/></a>"
      ]
    },
    {
      "cell_type": "code",
      "metadata": {
        "id": "BI4361ePwmXr"
      },
      "source": [
        "import tensorflow as tf\r\n",
        "from tensorflow import keras"
      ],
      "execution_count": null,
      "outputs": []
    },
    {
      "cell_type": "code",
      "metadata": {
        "colab": {
          "base_uri": "https://localhost:8080/"
        },
        "id": "QFAoP8gUww2W",
        "outputId": "4eb59e39-4a17-4aa7-94ba-30abdf3df8a8"
      },
      "source": [
        "physical_devices = tf.config.experimental.list_physical_devices('GPU')\r\n",
        "print(\"GPUs Available: \", len(physical_devices))\r\n",
        "tf.config.experimental.set_memory_growth(physical_devices[0], True)"
      ],
      "execution_count": null,
      "outputs": [
        {
          "output_type": "stream",
          "text": [
            "GPUs Available:  1\n"
          ],
          "name": "stdout"
        }
      ]
    },
    {
      "cell_type": "code",
      "metadata": {
        "id": "ImkCQbj-3Pip"
      },
      "source": [
        "from keras.models import Sequential\r\n",
        "from keras.layers import Dense, Activation"
      ],
      "execution_count": null,
      "outputs": []
    },
    {
      "cell_type": "markdown",
      "metadata": {
        "id": "HLIqd5KKAdBJ"
      },
      "source": [
        "# **Create a Sequential Model - Which is the Neural Network Architecture**\r\n"
      ]
    },
    {
      "cell_type": "code",
      "metadata": {
        "id": "xCZSa3UI-_nA"
      },
      "source": [
        "model = Sequential([\r\n",
        "      Dense(4, input_shape=(1,), activation='relu'),\r\n",
        "      Dense(3, activation='relu'),\r\n",
        "      Dense(2, activation='softmax')\r\n",
        "])"
      ],
      "execution_count": null,
      "outputs": []
    },
    {
      "cell_type": "code",
      "metadata": {
        "colab": {
          "base_uri": "https://localhost:8080/"
        },
        "id": "SKLxdl_n_85s",
        "outputId": "667abe59-7416-4676-f8ac-7c255d5caff8"
      },
      "source": [
        "model.summary()"
      ],
      "execution_count": null,
      "outputs": [
        {
          "output_type": "stream",
          "text": [
            "Model: \"sequential\"\n",
            "_________________________________________________________________\n",
            "Layer (type)                 Output Shape              Param #   \n",
            "=================================================================\n",
            "dense (Dense)                (None, 4)                 8         \n",
            "_________________________________________________________________\n",
            "dense_1 (Dense)              (None, 3)                 15        \n",
            "_________________________________________________________________\n",
            "dense_2 (Dense)              (None, 2)                 8         \n",
            "=================================================================\n",
            "Total params: 31\n",
            "Trainable params: 31\n",
            "Non-trainable params: 0\n",
            "_________________________________________________________________\n"
          ],
          "name": "stdout"
        }
      ]
    },
    {
      "cell_type": "markdown",
      "metadata": {
        "id": "2wPNXHxpAoQB"
      },
      "source": [
        "# **Another way to create a Sequential Model**"
      ]
    },
    {
      "cell_type": "code",
      "metadata": {
        "id": "Zt4kclcx__6H"
      },
      "source": [
        "model2 = Sequential()\r\n",
        "\r\n",
        "model2.add(Dense(4, input_shape=(1,), activation='relu'))\r\n",
        "model2.add(Dense(3, activation='relu'))\r\n",
        "model2.add(Dense(2, activation='softmax'))"
      ],
      "execution_count": null,
      "outputs": []
    },
    {
      "cell_type": "code",
      "metadata": {
        "colab": {
          "base_uri": "https://localhost:8080/"
        },
        "id": "tj0cXhMnAWpn",
        "outputId": "50f3d92a-9a9d-4baa-c6dc-4d6ef7be3b52"
      },
      "source": [
        "model2.summary()"
      ],
      "execution_count": null,
      "outputs": [
        {
          "output_type": "stream",
          "text": [
            "Model: \"sequential_1\"\n",
            "_________________________________________________________________\n",
            "Layer (type)                 Output Shape              Param #   \n",
            "=================================================================\n",
            "dense_3 (Dense)              (None, 4)                 8         \n",
            "_________________________________________________________________\n",
            "dense_4 (Dense)              (None, 3)                 15        \n",
            "_________________________________________________________________\n",
            "dense_5 (Dense)              (None, 2)                 8         \n",
            "=================================================================\n",
            "Total params: 31\n",
            "Trainable params: 31\n",
            "Non-trainable params: 0\n",
            "_________________________________________________________________\n"
          ],
          "name": "stdout"
        }
      ]
    },
    {
      "cell_type": "markdown",
      "metadata": {
        "id": "mGuh9O8kI09S"
      },
      "source": [
        "# **Compile a Model so its ready for training**"
      ]
    },
    {
      "cell_type": "code",
      "metadata": {
        "id": "cNwkfbj1Jc5Q"
      },
      "source": [
        "from keras.optimizers import Adam\r\n",
        "from keras.metrics import categorical_crossentropy"
      ],
      "execution_count": null,
      "outputs": []
    },
    {
      "cell_type": "code",
      "metadata": {
        "id": "m6QtSyMHoi49"
      },
      "source": [
        "model.compile(\r\n",
        "    Adam(learning_rate=0.0001),\r\n",
        "    loss='sparse_categorical_crossentropy',\r\n",
        "    metrics=['accuracy']\r\n",
        ")"
      ],
      "execution_count": null,
      "outputs": []
    },
    {
      "cell_type": "code",
      "metadata": {
        "colab": {
          "base_uri": "https://localhost:8080/"
        },
        "id": "hrCf5OpuNMj_",
        "outputId": "d547876d-9d8d-4e25-8498-fc8748e9130e"
      },
      "source": [
        "model.optimizer.learning_rate"
      ],
      "execution_count": null,
      "outputs": [
        {
          "output_type": "stream",
          "text": [
            "<tf.Variable 'learning_rate:0' shape=() dtype=float32, numpy=0.01>\n"
          ],
          "name": "stdout"
        }
      ]
    },
    {
      "cell_type": "code",
      "metadata": {
        "id": "Jpxf5G3GJnzz"
      },
      "source": [
        "model.optimizer.learning_rate = 0.01"
      ],
      "execution_count": null,
      "outputs": []
    },
    {
      "cell_type": "code",
      "metadata": {
        "colab": {
          "base_uri": "https://localhost:8080/"
        },
        "id": "yQYTB3hJNOvt",
        "outputId": "b10c9bfd-1009-4d5c-933a-c8b3384309a0"
      },
      "source": [
        "model.optimizer.learning_rate"
      ],
      "execution_count": null,
      "outputs": [
        {
          "output_type": "execute_result",
          "data": {
            "text/plain": [
              "<tf.Variable 'learning_rate:0' shape=() dtype=float32, numpy=0.01>"
            ]
          },
          "metadata": {
            "tags": []
          },
          "execution_count": 15
        }
      ]
    },
    {
      "cell_type": "code",
      "metadata": {
        "id": "9ZqE2oWRNP6H"
      },
      "source": [
        ""
      ],
      "execution_count": null,
      "outputs": []
    }
  ]
}