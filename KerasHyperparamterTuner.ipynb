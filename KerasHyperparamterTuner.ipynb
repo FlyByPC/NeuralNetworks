{
  "nbformat": 4,
  "nbformat_minor": 0,
  "metadata": {
    "colab": {
      "name": "KerasHyperparamterTuner.ipynb",
      "provenance": []
    },
    "kernelspec": {
      "name": "python3",
      "display_name": "Python 3"
    },
    "language_info": {
      "name": "python"
    },
    "accelerator": "GPU"
  },
  "cells": [
    {
      "cell_type": "markdown",
      "metadata": {
        "id": "tDEhPAdUOa1_"
      },
      "source": [
        "## Keras AutoTuner for Hyperparameters"
      ]
    },
    {
      "cell_type": "code",
      "metadata": {
        "id": "IIR43bcMOHrl"
      },
      "source": [
        "import tensorflow as tf\n",
        "from tensorflow import keras\n",
        "import numpy as np\n",
        "import matplotlib.pyplot as plt"
      ],
      "execution_count": null,
      "outputs": []
    },
    {
      "cell_type": "code",
      "metadata": {
        "colab": {
          "base_uri": "https://localhost:8080/"
        },
        "id": "iAY75xFPOUa0",
        "outputId": "dec64070-9634-4106-b3d8-40d746042868"
      },
      "source": [
        "!pip install -q -U keras-tuner\n",
        "import kerastuner as kt"
      ],
      "execution_count": null,
      "outputs": [
        {
          "output_type": "stream",
          "text": [
            "\u001b[?25l\r\u001b[K     |█████▏                          | 10kB 19.3MB/s eta 0:00:01\r\u001b[K     |██████████▍                     | 20kB 24.0MB/s eta 0:00:01\r\u001b[K     |███████████████▋                | 30kB 11.1MB/s eta 0:00:01\r\u001b[K     |████████████████████▉           | 40kB 9.1MB/s eta 0:00:01\r\u001b[K     |██████████████████████████      | 51kB 4.5MB/s eta 0:00:01\r\u001b[K     |███████████████████████████████▎| 61kB 5.1MB/s eta 0:00:01\r\u001b[K     |████████████████████████████████| 71kB 3.6MB/s \n",
            "\u001b[?25h  Building wheel for keras-tuner (setup.py) ... \u001b[?25l\u001b[?25hdone\n",
            "  Building wheel for terminaltables (setup.py) ... \u001b[?25l\u001b[?25hdone\n"
          ],
          "name": "stdout"
        }
      ]
    },
    {
      "cell_type": "markdown",
      "metadata": {
        "id": "Ya8VUzZpOUDA"
      },
      "source": [
        "## GPU Setup"
      ]
    },
    {
      "cell_type": "code",
      "metadata": {
        "colab": {
          "base_uri": "https://localhost:8080/"
        },
        "id": "GNp-HytGOQoQ",
        "outputId": "3048ce6d-0141-45cd-87c0-124195b309e5"
      },
      "source": [
        "physical_devices = tf.config.experimental.list_physical_devices('GPU')\n",
        "print(\"GPUs Available: \", len(physical_devices))\n",
        "tf.config.experimental.set_memory_growth(physical_devices[0], True)"
      ],
      "execution_count": null,
      "outputs": [
        {
          "output_type": "stream",
          "text": [
            "GPUs Available:  1\n"
          ],
          "name": "stdout"
        }
      ]
    },
    {
      "cell_type": "markdown",
      "metadata": {
        "id": "AStS8ncNOnsM"
      },
      "source": [
        "## Load the Fashion MNIST dataset"
      ]
    },
    {
      "cell_type": "code",
      "metadata": {
        "colab": {
          "base_uri": "https://localhost:8080/"
        },
        "id": "haxdZuwuOqWf",
        "outputId": "153620d9-495c-4f43-e059-b63bfd4850c1"
      },
      "source": [
        "(img_train, label_train), (img_test, label_test) = keras.datasets.fashion_mnist.load_data()"
      ],
      "execution_count": null,
      "outputs": [
        {
          "output_type": "stream",
          "text": [
            "Downloading data from https://storage.googleapis.com/tensorflow/tf-keras-datasets/train-labels-idx1-ubyte.gz\n",
            "32768/29515 [=================================] - 0s 0us/step\n",
            "Downloading data from https://storage.googleapis.com/tensorflow/tf-keras-datasets/train-images-idx3-ubyte.gz\n",
            "26427392/26421880 [==============================] - 0s 0us/step\n",
            "Downloading data from https://storage.googleapis.com/tensorflow/tf-keras-datasets/t10k-labels-idx1-ubyte.gz\n",
            "8192/5148 [===============================================] - 0s 0us/step\n",
            "Downloading data from https://storage.googleapis.com/tensorflow/tf-keras-datasets/t10k-images-idx3-ubyte.gz\n",
            "4423680/4422102 [==============================] - 0s 0us/step\n"
          ],
          "name": "stdout"
        }
      ]
    },
    {
      "cell_type": "markdown",
      "metadata": {
        "id": "7sPJmi95OuHm"
      },
      "source": [
        "## Show samples from the dataset"
      ]
    },
    {
      "cell_type": "code",
      "metadata": {
        "id": "YPJUnMNJOxDx"
      },
      "source": [
        "def plotImages(images_arr):\n",
        "    fig, axes = plt.subplots(1, 10, figsize=(20,20))\n",
        "    axes = axes.flatten()\n",
        "    for img, ax in zip( images_arr, axes):\n",
        "        ax.imshow(img)\n",
        "        ax.axis('off')\n",
        "    plt.tight_layout()\n",
        "    plt.show()"
      ],
      "execution_count": null,
      "outputs": []
    },
    {
      "cell_type": "code",
      "metadata": {
        "colab": {
          "base_uri": "https://localhost:8080/",
          "height": 135
        },
        "id": "NUxo1qEa7JK3",
        "outputId": "cb6f4244-bedb-45ff-c720-1a3251c5184a"
      },
      "source": [
        "plotImages(img_train[:10])"
      ],
      "execution_count": null,
      "outputs": [
        {
          "output_type": "display_data",
          "data": {
            "image/png": "[encoded data removed]",
            "text/plain": [
              "<Figure size 1440x1440 with 10 Axes>"
            ]
          },
          "metadata": {
            "tags": [],
            "needs_background": "light"
          }
        }
      ]
    },
    {
      "cell_type": "markdown",
      "metadata": {
        "id": "P8sIzY9YOxeE"
      },
      "source": [
        "## Build the Model"
      ]
    },
    {
      "cell_type": "code",
      "metadata": {
        "id": "e1zFNseYO0dY"
      },
      "source": [
        "def model_builder(hp):\n",
        "  model = keras.Sequential()\n",
        "  model.add(keras.layers.Flatten(input_shape=(28, 28)))\n",
        "\n",
        "  # Tune the number of units in the first Dense layer\n",
        "  # Choose an optimal value between 32-512\n",
        "  hp_units = hp.Int('units', min_value=32, max_value=512, step=32)\n",
        "  model.add(keras.layers.Dense(units=hp_units, activation='relu'))\n",
        "  model.add(keras.layers.Dense(10))\n",
        "\n",
        "  # Tune the learning rate for the optimizer\n",
        "  # Choose an optimal value from 0.01, 0.001, or 0.0001\n",
        "  hp_learning_rate = hp.Choice('learning_rate', values=[1e-2, 1e-3, 1e-4])\n",
        "\n",
        "  model.compile(optimizer=keras.optimizers.Adam(learning_rate=hp_learning_rate),\n",
        "                loss=keras.losses.SparseCategoricalCrossentropy(from_logits=True),\n",
        "                metrics=['accuracy'])\n",
        "\n",
        "  return model"
      ],
      "execution_count": null,
      "outputs": []
    },
    {
      "cell_type": "markdown",
      "metadata": {
        "id": "iY64CkaDPbe_"
      },
      "source": [
        "## Instantiate the tuner and perfrom hypertuning"
      ]
    },
    {
      "cell_type": "code",
      "metadata": {
        "id": "62mIAPLWPe_4"
      },
      "source": [
        "tuner = kt.Hyperband(model_builder,\n",
        "                     objective='val_accuracy',\n",
        "                     max_epochs=10,\n",
        "                     factor=3,\n",
        "                     directory='my_dir',\n",
        "                     project_name='intro_to_kt')"
      ],
      "execution_count": null,
      "outputs": []
    },
    {
      "cell_type": "code",
      "metadata": {
        "id": "JdCBWPOjPiwc"
      },
      "source": [
        "stop_early = tf.keras.callbacks.EarlyStopping(monitor='val_accuracy', patience=5)"
      ],
      "execution_count": null,
      "outputs": []
    },
    {
      "cell_type": "code",
      "metadata": {
        "colab": {
          "base_uri": "https://localhost:8080/"
        },
        "id": "JF3akWW-PjOP",
        "outputId": "84de340a-3783-40ab-b8db-ae126f23505d"
      },
      "source": [
        "tuner.search(img_train, label_train, epochs=20, validation_split=0.2, callbacks=[stop_early])\n",
        "\n",
        "# Get the optimal hyperparameters\n",
        "best_hps=tuner.get_best_hyperparameters(num_trials=1)[0]\n",
        "\n",
        "print(f\"\"\"\n",
        "The hyperparameter search is complete. The optimal number of units in the first densely-connected\n",
        "layer is {best_hps.get('units')} and the optimal learning rate for the optimizer\n",
        "is {best_hps.get('learning_rate')}.\n",
        "\"\"\")"
      ],
      "execution_count": null,
      "outputs": [
        {
          "output_type": "stream",
          "text": [
            "Trial 30 Complete [00h 00m 38s]\n",
            "val_accuracy: 0.7456666827201843\n",
            "\n",
            "Best val_accuracy So Far: 0.8488333225250244\n",
            "Total elapsed time: 00h 08m 02s\n",
            "INFO:tensorflow:Oracle triggered exit\n",
            "\n",
            "The hyperparameter search is complete. The optimal number of units in the first densely-connected\n",
            "layer is 384 and the optimal learning rate for the optimizer\n",
            "is 0.0001.\n",
            "\n"
          ],
          "name": "stdout"
        }
      ]
    },
    {
      "cell_type": "markdown",
      "metadata": {
        "id": "9_HYa8CJPk8g"
      },
      "source": [
        "## Train the Model"
      ]
    },
    {
      "cell_type": "code",
      "metadata": {
        "colab": {
          "base_uri": "https://localhost:8080/"
        },
        "id": "qeZzaSpVPmz2",
        "outputId": "9d7fe1d4-06f0-4559-b0f5-0e72128de1f3"
      },
      "source": [
        "# Build the model with the optimal hyperparameters and train it on the data for 30 epochs\n",
        "model = tuner.hypermodel.build(best_hps)\n",
        "history = model.fit(img_train, label_train, epochs=30, validation_split=0.2)\n"
      ],
      "execution_count": null,
      "outputs": [
        {
          "output_type": "stream",
          "text": [
            "Epoch 1/30\n",
            "1500/1500 [==============================] - 5s 3ms/step - loss: 20.9784 - accuracy: 0.6681 - val_loss: 6.6482 - val_accuracy: 0.7839\n",
            "Epoch 2/30\n",
            "1500/1500 [==============================] - 4s 3ms/step - loss: 5.0858 - accuracy: 0.8112 - val_loss: 6.2541 - val_accuracy: 0.7637\n",
            "Epoch 3/30\n",
            "1500/1500 [==============================] - 4s 3ms/step - loss: 3.7666 - accuracy: 0.8259 - val_loss: 3.4483 - val_accuracy: 0.8320\n",
            "Epoch 4/30\n",
            "1500/1500 [==============================] - 4s 3ms/step - loss: 2.8215 - accuracy: 0.8383 - val_loss: 2.5204 - val_accuracy: 0.8442\n",
            "Epoch 5/30\n",
            "1500/1500 [==============================] - 4s 3ms/step - loss: 2.2440 - accuracy: 0.8461 - val_loss: 2.9213 - val_accuracy: 0.8235\n",
            "Epoch 6/30\n",
            "1500/1500 [==============================] - 4s 3ms/step - loss: 1.8705 - accuracy: 0.8567 - val_loss: 2.2525 - val_accuracy: 0.8411\n",
            "Epoch 7/30\n",
            "1500/1500 [==============================] - 4s 3ms/step - loss: 1.4950 - accuracy: 0.8632 - val_loss: 2.2710 - val_accuracy: 0.8237\n",
            "Epoch 8/30\n",
            "1500/1500 [==============================] - 4s 3ms/step - loss: 1.2529 - accuracy: 0.8705 - val_loss: 1.9603 - val_accuracy: 0.8383\n",
            "Epoch 9/30\n",
            "1500/1500 [==============================] - 4s 3ms/step - loss: 1.1522 - accuracy: 0.8731 - val_loss: 1.9301 - val_accuracy: 0.8414\n",
            "Epoch 10/30\n",
            "1500/1500 [==============================] - 4s 3ms/step - loss: 0.9789 - accuracy: 0.8802 - val_loss: 1.6691 - val_accuracy: 0.8368\n",
            "Epoch 11/30\n",
            "1500/1500 [==============================] - 4s 3ms/step - loss: 0.8257 - accuracy: 0.8856 - val_loss: 1.5388 - val_accuracy: 0.8488\n",
            "Epoch 12/30\n",
            "1500/1500 [==============================] - 4s 3ms/step - loss: 0.7480 - accuracy: 0.8891 - val_loss: 1.4759 - val_accuracy: 0.8392\n",
            "Epoch 13/30\n",
            "1500/1500 [==============================] - 4s 3ms/step - loss: 0.6882 - accuracy: 0.8913 - val_loss: 1.4324 - val_accuracy: 0.8470\n",
            "Epoch 14/30\n",
            "1500/1500 [==============================] - 4s 3ms/step - loss: 0.6257 - accuracy: 0.8963 - val_loss: 1.3891 - val_accuracy: 0.8458\n",
            "Epoch 15/30\n",
            "1500/1500 [==============================] - 4s 3ms/step - loss: 0.5597 - accuracy: 0.8993 - val_loss: 1.2310 - val_accuracy: 0.8515\n",
            "Epoch 16/30\n",
            "1500/1500 [==============================] - 4s 3ms/step - loss: 0.4895 - accuracy: 0.9006 - val_loss: 1.1057 - val_accuracy: 0.8545\n",
            "Epoch 17/30\n",
            "1500/1500 [==============================] - 4s 3ms/step - loss: 0.4238 - accuracy: 0.9059 - val_loss: 1.1431 - val_accuracy: 0.8574\n",
            "Epoch 18/30\n",
            "1500/1500 [==============================] - 4s 3ms/step - loss: 0.3749 - accuracy: 0.9121 - val_loss: 1.0305 - val_accuracy: 0.8622\n",
            "Epoch 19/30\n",
            "1500/1500 [==============================] - 4s 3ms/step - loss: 0.3601 - accuracy: 0.9102 - val_loss: 1.1377 - val_accuracy: 0.8537\n",
            "Epoch 20/30\n",
            "1500/1500 [==============================] - 4s 3ms/step - loss: 0.3503 - accuracy: 0.9131 - val_loss: 1.0479 - val_accuracy: 0.8347\n",
            "Epoch 21/30\n",
            "1500/1500 [==============================] - 4s 3ms/step - loss: 0.3046 - accuracy: 0.9153 - val_loss: 0.9407 - val_accuracy: 0.8683\n",
            "Epoch 22/30\n",
            "1500/1500 [==============================] - 4s 3ms/step - loss: 0.2826 - accuracy: 0.9185 - val_loss: 0.9703 - val_accuracy: 0.8659\n",
            "Epoch 23/30\n",
            "1500/1500 [==============================] - 4s 3ms/step - loss: 0.2519 - accuracy: 0.9247 - val_loss: 0.8608 - val_accuracy: 0.8649\n",
            "Epoch 24/30\n",
            "1500/1500 [==============================] - 4s 3ms/step - loss: 0.2497 - accuracy: 0.9237 - val_loss: 0.8430 - val_accuracy: 0.8701\n",
            "Epoch 25/30\n",
            "1500/1500 [==============================] - 4s 3ms/step - loss: 0.2365 - accuracy: 0.9248 - val_loss: 0.7825 - val_accuracy: 0.8729\n",
            "Epoch 26/30\n",
            "1500/1500 [==============================] - 4s 3ms/step - loss: 0.2280 - accuracy: 0.9294 - val_loss: 0.8313 - val_accuracy: 0.8690\n",
            "Epoch 27/30\n",
            "1500/1500 [==============================] - 4s 3ms/step - loss: 0.2126 - accuracy: 0.9289 - val_loss: 0.7513 - val_accuracy: 0.8748\n",
            "Epoch 28/30\n",
            "1500/1500 [==============================] - 4s 3ms/step - loss: 0.2121 - accuracy: 0.9287 - val_loss: 0.8478 - val_accuracy: 0.8708\n",
            "Epoch 29/30\n",
            "1500/1500 [==============================] - 4s 3ms/step - loss: 0.1955 - accuracy: 0.9338 - val_loss: 0.8234 - val_accuracy: 0.8608\n",
            "Epoch 30/30\n",
            "1500/1500 [==============================] - 4s 3ms/step - loss: 0.1822 - accuracy: 0.9355 - val_loss: 0.7843 - val_accuracy: 0.8708\n"
          ],
          "name": "stdout"
        }
      ]
    },
    {
      "cell_type": "code",
      "metadata": {
        "colab": {
          "base_uri": "https://localhost:8080/",
          "height": 295
        },
        "id": "vbbaSePs7-7a",
        "outputId": "3f10a2d9-2b99-4449-8ad3-16d136d64418"
      },
      "source": [
        "# Plot the accuracy of the model during training\n",
        "plt.plot(history.history['accuracy'])\n",
        "plt.plot(history.history['val_accuracy'])\n",
        "plt.title('Model Accuracy')\n",
        "plt.ylabel('accuracy')\n",
        "plt.xlabel('Epoch')\n",
        "plt.legend(['Training', 'Validation'], loc='upper left')\n",
        "plt.show()"
      ],
      "execution_count": null,
      "outputs": [
        {
          "output_type": "display_data",
          "data": {
            "image/png": "[encoded data removed]",
            "text/plain": [
              "<Figure size 432x288 with 1 Axes>"
            ]
          },
          "metadata": {
            "tags": [],
            "needs_background": "light"
          }
        }
      ]
    },
    {
      "cell_type": "markdown",
      "metadata": {
        "id": "YzrNK8IUPqds"
      },
      "source": [
        "## Evaluate the Trained Model"
      ]
    },
    {
      "cell_type": "code",
      "metadata": {
        "colab": {
          "base_uri": "https://localhost:8080/"
        },
        "id": "fr85ge7NPvlz",
        "outputId": "7aa0ce65-85c5-4946-b589-b8c383eddec2"
      },
      "source": [
        "evaluation = model.evaluate(img_test, label_test)\n",
        "print(\"[test loss, test accuracy]:\", evaluation)"
      ],
      "execution_count": null,
      "outputs": [
        {
          "output_type": "stream",
          "text": [
            "313/313 [==============================] - 1s 3ms/step - loss: 0.7926 - accuracy: 0.8690\n",
            "[test loss, test accuracy]: [0.7926274538040161, 0.8690000176429749]\n"
          ],
          "name": "stdout"
        }
      ]
    },
    {
      "cell_type": "markdown",
      "metadata": {
        "id": "PIV-GNDEPxvt"
      },
      "source": [
        "## Predictions"
      ]
    },
    {
      "cell_type": "code",
      "metadata": {
        "id": "cZnrcZSIPy7y",
        "colab": {
          "base_uri": "https://localhost:8080/",
          "height": 135
        },
        "outputId": "fc3f9ff1-7d91-45e5-c886-d8dc45ed319c"
      },
      "source": [
        "plotImages(img_test[:10])"
      ],
      "execution_count": null,
      "outputs": [
        {
          "output_type": "display_data",
          "data": {
            "image/png": "[encoded data removed]",
            "text/plain": [
              "<Figure size 1440x1440 with 10 Axes>"
            ]
          },
          "metadata": {
            "tags": [],
            "needs_background": "light"
          }
        }
      ]
    },
    {
      "cell_type": "code",
      "metadata": {
        "colab": {
          "base_uri": "https://localhost:8080/"
        },
        "id": "7wia9nNj8II3",
        "outputId": "547a02eb-0248-45df-d7c3-845fe071f12d"
      },
      "source": [
        "predictions = np.argmax(model.predict(img_test[:10]), axis=-1)\n",
        "print(predictions)"
      ],
      "execution_count": null,
      "outputs": [
        {
          "output_type": "stream",
          "text": [
            "[9 2 1 1 6 1 4 6 5 7]\n"
          ],
          "name": "stdout"
        }
      ]
    }
  ]
}